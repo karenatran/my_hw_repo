{
 "cells": [
  {
   "cell_type": "markdown",
   "metadata": {},
   "source": [
    "# Project 1\n",
    "In this first project you will create a framework to scope out data science projects. This framework will provide you with a guide to develop a well-articulated problem statement and analysis plan that will be robust and reproducible.\n"
   ]
  },
  {
   "cell_type": "markdown",
   "metadata": {},
   "source": [
    "## Read and evaluate the following problem statement:\n",
    "Determine which free-tier customers will convert to paying customers, using demographic data collected at signup (age, gender, location, and profession) and customer usage data (days since last log in, and activity score 1 = active user, 0= inactive user) based on Hooli data from Jan-Apr 2015.\n"
   ]
  },
  {
   "cell_type": "markdown",
   "metadata": {},
   "source": [
    "#### 1. What is the outcome?\n",
    "Answer: Conversion to active user (Y/N)"
   ]
  },
  {
   "cell_type": "markdown",
   "metadata": {},
   "source": [
    "#### 2. What are the predictors/covariates?\n",
    "Answer: age, gender, location, profession, days since last log in, and activity score"
   ]
  },
  {
   "cell_type": "markdown",
   "metadata": {},
   "source": [
    "#### 3. What timeframe is this data relevant for?\n",
    "Answer: Jan - Apr 2015"
   ]
  },
  {
   "cell_type": "markdown",
   "metadata": {},
   "source": [
    "#### 4. What is the hypothesis?\n",
    "Answer: Customers who live greater than a 15 mile radius are more likely to convert to an active or paying customer than those living less than 15 miles away. "
   ]
  },
  {
   "cell_type": "markdown",
   "metadata": {},
   "source": [
    "## Let's get started with our admissions.csv dataset\n"
   ]
  },
  {
   "cell_type": "code",
   "execution_count": 5,
   "metadata": {
    "collapsed": true
   },
   "outputs": [],
   "source": [
    "import pandas as pd"
   ]
  },
  {
   "cell_type": "markdown",
   "metadata": {},
   "source": [
    "#### 1. Create a data dictionary\n",
    "Answer:"
   ]
  },
  {
   "cell_type": "code",
   "execution_count": 3,
   "metadata": {
    "collapsed": false
   },
   "outputs": [],
   "source": [
    "Variable = ['Admit','GPA','GRE','Rank']\n",
    "Description = ['0 = reject 1 = accept','grade point average','test score','prestige of an applicant undergraduate alma mater']\n",
    "Type_Variable = ['categorical','continuous','continuous','continuous']"
   ]
  },
  {
   "cell_type": "code",
   "execution_count": 2,
   "metadata": {
    "collapsed": false
   },
   "outputs": [
    {
     "data": {
      "text/plain": [
       "[('Admit', '0 = reject 1 = accept', 'categorical'),\n",
       " ('GPA', 'grade point average', 'continuous'),\n",
       " ('GRE', 'test score', 'continuous'),\n",
       " ('Rank', 'prestige of an applicant undergraduate alma mater', 'continuous')]"
      ]
     },
     "execution_count": 2,
     "metadata": {},
     "output_type": "execute_result"
    }
   ],
   "source": [
    "AdmitDataSet = list(zip(Variable,Description,Type_Variable))\n",
    "AdmitDataSet"
   ]
  },
  {
   "cell_type": "code",
   "execution_count": 6,
   "metadata": {
    "collapsed": false
   },
   "outputs": [
    {
     "data": {
      "text/html": [
       "<div>\n",
       "<table border=\"1\" class=\"dataframe\">\n",
       "  <thead>\n",
       "    <tr style=\"text-align: right;\">\n",
       "      <th></th>\n",
       "      <th>Variable</th>\n",
       "      <th>Description</th>\n",
       "      <th>Type_Variable</th>\n",
       "    </tr>\n",
       "  </thead>\n",
       "  <tbody>\n",
       "    <tr>\n",
       "      <th>0</th>\n",
       "      <td>Admit</td>\n",
       "      <td>0 = reject 1 = accept</td>\n",
       "      <td>categorical</td>\n",
       "    </tr>\n",
       "    <tr>\n",
       "      <th>1</th>\n",
       "      <td>GPA</td>\n",
       "      <td>grade point average</td>\n",
       "      <td>continuous</td>\n",
       "    </tr>\n",
       "    <tr>\n",
       "      <th>2</th>\n",
       "      <td>GRE</td>\n",
       "      <td>test score</td>\n",
       "      <td>continuous</td>\n",
       "    </tr>\n",
       "    <tr>\n",
       "      <th>3</th>\n",
       "      <td>Rank</td>\n",
       "      <td>prestige of an applicant undergraduate alma mater</td>\n",
       "      <td>continuous</td>\n",
       "    </tr>\n",
       "  </tbody>\n",
       "</table>\n",
       "</div>"
      ],
      "text/plain": [
       "  Variable                                        Description Type_Variable\n",
       "0    Admit                              0 = reject 1 = accept   categorical\n",
       "1      GPA                                grade point average    continuous\n",
       "2      GRE                                         test score    continuous\n",
       "3     Rank  prestige of an applicant undergraduate alma mater    continuous"
      ]
     },
     "execution_count": 6,
     "metadata": {},
     "output_type": "execute_result"
    }
   ],
   "source": [
    "df = pd.DataFrame(data = AdmitDataSet, columns=['Variable', 'Description','Type_Variable'])\n",
    "df"
   ]
  },
  {
   "cell_type": "markdown",
   "metadata": {},
   "source": [
    "We would like to explore the association between whether a student gets accepted (1) or rejected (0) based on GPA, GRE, and rank"
   ]
  },
  {
   "cell_type": "markdown",
   "metadata": {},
   "source": [
    "#### 2. What is the outcome?\n",
    "Answer: Student acceptance (Y/N)"
   ]
  },
  {
   "cell_type": "markdown",
   "metadata": {},
   "source": [
    "#### 3. What are the predictors/covariates?\n",
    "Answer: GPA, GRE, and Rank"
   ]
  },
  {
   "cell_type": "markdown",
   "metadata": {},
   "source": [
    "#### 4. What timeframe is this data relevant for?\n",
    "Answer: One acceptance period - from when the student submits their application to when they receive the notice on whether they were accepted or rejected."
   ]
  },
  {
   "cell_type": "markdown",
   "metadata": {},
   "source": [
    "#### 5. What is the hypothesis?\n",
    "Answer: Students GPAs of 3.50 or higher with a rank of 1 are more likely to get accepted than students with GPAs between 3.0 and 3.4 and rank of 3. "
   ]
  },
  {
   "cell_type": "markdown",
   "metadata": {},
   "source": [
    "#### 6. Using the above information, write a well-formed problem statement.\n",
    "Answer: Are students more likely to get accepted based on higher GPAs while attending the lowest ranked schools or mediocre GPAs (between 3.0 and 3.5) and attending the highest ranked schools?"
   ]
  },
  {
   "cell_type": "markdown",
   "metadata": {},
   "source": [
    "### Exploratory Analysis Plan"
   ]
  },
  {
   "cell_type": "markdown",
   "metadata": {},
   "source": [
    "#### 1. What are the goals of the exploratory analysis?\n",
    "Answer: The goals of exploratory analysis are to be able to draw important characteristics from a data set that will provide the answer to a hypothesis, explore data beyond the hypothesis, find missing predict missing values, and compute basic stats. In this case, my goal would be to use the provided data to draw a conclusion that will either null or accept my hypothesis."
   ]
  },
  {
   "cell_type": "markdown",
   "metadata": {},
   "source": [
    "#### 2a. What are the assumptions regarding the distribution of the data?\n",
    "Answer: I assume that a higher GRE or GPA will lead to a higher probability of being accepted. The standard deviation for GPA will be fairly lower than the standard deviation of GRE given the data disburition.\n"
   ]
  },
  {
   "cell_type": "markdown",
   "metadata": {},
   "source": [
    "#### 2b. How will you determine the distribution of your data?\n",
    "Answer: To determine distribtuion of a data set, I will plot the data set, find the mean, median, and mode, and plot the dispersion or standard deviation. "
   ]
  },
  {
   "cell_type": "markdown",
   "metadata": {},
   "source": [
    "#### 3a. How might outliers impact your analysis?\n",
    "Answer: Outliers has the biggest effect on mean or average but can also slightly alter the median and mode. "
   ]
  },
  {
   "cell_type": "markdown",
   "metadata": {
    "collapsed": true
   },
   "source": [
    "#### 3b. How will you test for outliers?\n",
    "Answer: I can test for outliers by using a visual graph such as a box plot or histogram. Outliers can also be found using the z score method where we calculate the standard deviation."
   ]
  },
  {
   "cell_type": "markdown",
   "metadata": {},
   "source": [
    "#### 4. What is your exploratory analysis plan?\n",
    "Using the above information, write an exploratory analysis plan that would allow you or a colleague to reproduce your analysis 1 year from now.\n",
    "Answer:\n",
    "First I identify the problem which in this case is are students more likely to get accepted with higher GPA but a low school rank than students with higher school rank but slightly lower GPAs? From the problem statement, I can make an educated hypothesis. \n",
    "\n",
    "Next, I acquire and comb through the data, creating a variable dictionary I and anyone else can easily refer back to.\n",
    "\n",
    "\n",
    "An easy way to make sense of the data is to first sort it, then find the mean, median, standard deviation for each variable. To make the data a little more easier to read, I will then create distribution and histograph. \n",
    "\n",
    "I will record the results and state whether my hypothesis was null or accepted.\n"
   ]
  },
  {
   "cell_type": "markdown",
   "metadata": {
    "collapsed": true
   },
   "source": [
    "## Bonus Questions:\n",
    "\n"
   ]
  },
  {
   "cell_type": "markdown",
   "metadata": {},
   "source": [
    "#### 1. Outline your analysis method for predicting your outcome\n"
   ]
  },
  {
   "cell_type": "markdown",
   "metadata": {},
   "source": [
    "#### 2. Write an alternative problem statement for your dataset\n",
    "Do more students get accepted based on a GRE score above the mean and school rank of 3 or do more students get accepted based on a GPA above the mean and school rank of 3?"
   ]
  },
  {
   "cell_type": "markdown",
   "metadata": {},
   "source": [
    "#### 3. Articulate the assumptions and risks of the alternative model\n",
    "The risk of the alternative question is that GRE and GPA can be very closely correlated but in this case, I am treating them as separate independent entities. "
   ]
  },
  {
   "cell_type": "code",
   "execution_count": null,
   "metadata": {
    "collapsed": true
   },
   "outputs": [],
   "source": [
    ""
   ]
  }
 ],
 "metadata": {
  "anaconda-cloud": {},
  "kernelspec": {
   "display_name": "Python [default]",
   "language": "python",
   "name": "python2"
  },
  "language_info": {
   "codemirror_mode": {
    "name": "ipython",
    "version": 2.0
   },
   "file_extension": ".py",
   "mimetype": "text/x-python",
   "name": "python",
   "nbconvert_exporter": "python",
   "pygments_lexer": "ipython2",
   "version": "2.7.12"
  }
 },
 "nbformat": 4,
 "nbformat_minor": 0
}