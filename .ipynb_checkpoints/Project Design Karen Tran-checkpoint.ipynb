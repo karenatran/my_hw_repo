{
 "cells": [
  {
   "cell_type": "markdown",
   "metadata": {},
   "source": [
    "# Project Design Writeup and Approval Template"
   ]
  },
  {
   "cell_type": "markdown",
   "metadata": {},
   "source": [
    "### Project Problem and Hypothesis\n"
   ]
  },
  {
   "cell_type": "markdown",
   "metadata": {},
   "source": [
    "Vox Media launched a beta version of a new ad product for clients who key performance indicator is viewability. This new ad displays on screen and in-view for X seconds. I want to predict the optimum in-view time in seconds that will yield the highest viewability rate.I also want to see if there is a strong correlation between in-view time and viewability. If not, which variable affects viewability most? Currently, our product team has been toying with two numbers: 10 seconds and 12.5 seconds, and performing simple A/B testing. This project will help determine the optimum time for this new product. "
   ]
  },
  {
   "cell_type": "markdown",
   "metadata": {},
   "source": [
    "### Datasets"
   ]
  },
  {
   "cell_type": "markdown",
   "metadata": {},
   "source": [
    "We are given seven explanatory variables which include impressions analyzed, in-view impressions, in-view rate, in-view time, universal interaction time, clicks, and total ad dwell time. We can use the data from both the new ad product (minimal reporting)  along with the data for other  ad sizes similar in size (320x50 and 300x250)."
   ]
  },
  {
   "cell_type": "markdown",
   "metadata": {},
   "source": [
    "### Domain knowledge"
   ]
  },
  {
   "cell_type": "markdown",
   "metadata": {},
   "source": [
    "Looking at just two campaigns, I know that between 10 seconds and 12.5 seconds, in-view time with 12.5 seconds saw higher viewability rate. This information helps me narrow down the seconds, but since the data for the ad unit is so small, it won't prove too useful. We have data from other similar ad units with in-view time and viewability rate that we can use. "
   ]
  },
  {
   "cell_type": "markdown",
   "metadata": {},
   "source": [
    "### Project Concerns"
   ]
  },
  {
   "cell_type": "markdown",
   "metadata": {},
   "source": [
    "Questions I have for this project:\n",
    "1. Is there even a strong correlation between in-view time and viewability rate?\n",
    "2. If not, which variable does have a strong correlation? \n",
    "3. Does ad size matter? \n",
    "\n",
    "I'm assuming that the optimum time is 12.5 seconds but the caveat with this assumption is that it is based on very limited data. The hypothesized number of seconds (10 and 12.5) was also chosen without much experiment. \n",
    "\n",
    "Another limitation is that this is based using only mobile data. Since the new ad unit is for mobile only, I believe it is okay to keep the project isolated to this device. \n",
    "\n",
    "I'm really concerned that none of the variables are correlated and how much data I should pull for this project. I also have to comb through the data to see what is important and what is not considering there are so many variables. \n"
   ]
  },
  {
   "cell_type": "markdown",
   "metadata": {},
   "source": [
    "### Outcomes"
   ]
  },
  {
   "cell_type": "markdown",
   "metadata": {},
   "source": [
    "I'm expecting that there is will be a strong correlation between time and rate. However, I also think other factors play a part as well such as site and ad size. My target audience, aka my product team, believes that time shows the strongest correlation and with some trial and error, 12.5 seconds is the ideal time for an ad to be in-view on a page. \n",
    "\n",
    "I don't think my model has to be incredibly complicated but I do want to run multiple tests to really understand the data and outcomes. Everyone would love a 100% success rate for this to be considered successful :) But I will be happy if I can just find an ideal in-view time along with any factors that I can use to predict the viewability rate for future campaigns as an optimization tool. \n",
    "\n",
    "If this project is a bust, then I must resort to a plan B found on Kaggle. Womp womp womp. "
   ]
  }
 ],
 "metadata": {
  "anaconda-cloud": {},
  "kernelspec": {
   "display_name": "Python [default]",
   "language": "python",
   "name": "python2"
  },
  "language_info": {
   "codemirror_mode": {
    "name": "ipython",
    "version": 2
   },
   "file_extension": ".py",
   "mimetype": "text/x-python",
   "name": "python",
   "nbconvert_exporter": "python",
   "pygments_lexer": "ipython2",
   "version": "2.7.12"
  }
 },
 "nbformat": 4,
 "nbformat_minor": 1
}
